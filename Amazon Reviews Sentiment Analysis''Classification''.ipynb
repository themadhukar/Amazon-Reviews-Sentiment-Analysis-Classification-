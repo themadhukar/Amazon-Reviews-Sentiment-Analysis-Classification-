{
 "cells": [
  {
   "cell_type": "code",
   "execution_count": 24,
   "metadata": {},
   "outputs": [],
   "source": [
    "import pandas as pd\n",
    "import numpy as np\n",
    "import matplotlib.pyplot as plt\n",
    "from nltk.tokenize import RegexpTokenizer\n",
    "from nltk.corpus import stopwords\n",
    "from nltk.stem import WordNetLemmatizer\n",
    "from sklearn.model_selection import train_test_split\n",
    "from sklearn.feature_extraction.text import TfidfVectorizer\n",
    "from sklearn.linear_model import LogisticRegression\n",
    "from sklearn.metrics import precision_score,confusion_matrix,recall_score,f1_score,classification_report\n",
    "from sklearn.linear_model import Lasso\n",
    "from sklearn.linear_model import SGDClassifier\n",
    "from sklearn.tree import DecisionTreeClassifier\n",
    "from sklearn.tree import DecisionTreeRegressor\n",
    "from sklearn.ensemble import RandomForestClassifier\n",
    "from sklearn.ensemble import AdaBoostClassifier\n",
    "from sklearn.naive_bayes import GaussianNB\n",
    "from sklearn.ensemble import GradientBoostingClassifier\n",
    "from sklearn.ensemble import RandomForestRegressor\n",
    "from sklearn.neighbors import KNeighborsClassifier\n",
    "from sklearn.model_selection import GridSearchCV,RandomizedSearchCV\n",
    "from scipy.stats import randint\n",
    "\n",
    "import warnings\n",
    "warnings.filterwarnings('ignore')"
   ]
  },
  {
   "cell_type": "code",
   "execution_count": 25,
   "metadata": {},
   "outputs": [
    {
     "data": {
      "text/html": [
       "<div>\n",
       "<style scoped>\n",
       "    .dataframe tbody tr th:only-of-type {\n",
       "        vertical-align: middle;\n",
       "    }\n",
       "\n",
       "    .dataframe tbody tr th {\n",
       "        vertical-align: top;\n",
       "    }\n",
       "\n",
       "    .dataframe thead th {\n",
       "        text-align: right;\n",
       "    }\n",
       "</style>\n",
       "<table border=\"1\" class=\"dataframe\">\n",
       "  <thead>\n",
       "    <tr style=\"text-align: right;\">\n",
       "      <th></th>\n",
       "      <th>Review</th>\n",
       "    </tr>\n",
       "  </thead>\n",
       "  <tbody>\n",
       "    <tr>\n",
       "      <th>0</th>\n",
       "      <td>Stuning even for the non-gamer: This sound tr...</td>\n",
       "    </tr>\n",
       "    <tr>\n",
       "      <th>1</th>\n",
       "      <td>The best soundtrack ever to anything.: I'm re...</td>\n",
       "    </tr>\n",
       "    <tr>\n",
       "      <th>2</th>\n",
       "      <td>Amazing!: This soundtrack is my favorite musi...</td>\n",
       "    </tr>\n",
       "    <tr>\n",
       "      <th>3</th>\n",
       "      <td>Excellent Soundtrack: I truly like this sound...</td>\n",
       "    </tr>\n",
       "    <tr>\n",
       "      <th>4</th>\n",
       "      <td>Remember, Pull Your Jaw Off The Floor After H...</td>\n",
       "    </tr>\n",
       "    <tr>\n",
       "      <th>...</th>\n",
       "      <td>...</td>\n",
       "    </tr>\n",
       "    <tr>\n",
       "      <th>194</th>\n",
       "      <td>A Book That Is Worth a Second Look: This book...</td>\n",
       "    </tr>\n",
       "    <tr>\n",
       "      <th>195</th>\n",
       "      <td>Best game ever: This games makes even amazing...</td>\n",
       "    </tr>\n",
       "    <tr>\n",
       "      <th>196</th>\n",
       "      <td>Guitar in Absentia: With all due respect to a...</td>\n",
       "    </tr>\n",
       "    <tr>\n",
       "      <th>197</th>\n",
       "      <td>Stiff and Smells like drying paint: You get w...</td>\n",
       "    </tr>\n",
       "    <tr>\n",
       "      <th>198</th>\n",
       "      <td>Review of Pillow: This was a joke. I am sendi...</td>\n",
       "    </tr>\n",
       "  </tbody>\n",
       "</table>\n",
       "<p>199 rows × 1 columns</p>\n",
       "</div>"
      ],
      "text/plain": [
       "                                                Review\n",
       "0     Stuning even for the non-gamer: This sound tr...\n",
       "1     The best soundtrack ever to anything.: I'm re...\n",
       "2     Amazing!: This soundtrack is my favorite musi...\n",
       "3     Excellent Soundtrack: I truly like this sound...\n",
       "4     Remember, Pull Your Jaw Off The Floor After H...\n",
       "..                                                 ...\n",
       "194   A Book That Is Worth a Second Look: This book...\n",
       "195   Best game ever: This games makes even amazing...\n",
       "196   Guitar in Absentia: With all due respect to a...\n",
       "197   Stiff and Smells like drying paint: You get w...\n",
       "198   Review of Pillow: This was a joke. I am sendi...\n",
       "\n",
       "[199 rows x 1 columns]"
      ]
     },
     "execution_count": 25,
     "metadata": {},
     "output_type": "execute_result"
    }
   ],
   "source": [
    "reviews_df=pd.read_csv('Amazon_Reviews.csv')\n",
    "y=reviews_df['Label']\n",
    "reviews_df.drop(columns='Label',inplace=True)\n",
    "reviews_df"
   ]
  },
  {
   "cell_type": "markdown",
   "metadata": {},
   "source": [
    "## Tokenize"
   ]
  },
  {
   "cell_type": "code",
   "execution_count": 26,
   "metadata": {},
   "outputs": [],
   "source": [
    "regexp=RegexpTokenizer(r'\\w+')\n",
    "stopwords_en=stopwords.words('english')\n",
    "lemmatizer=WordNetLemmatizer()      \n",
    "vectorizer=TfidfVectorizer()"
   ]
  },
  {
   "cell_type": "code",
   "execution_count": 27,
   "metadata": {},
   "outputs": [],
   "source": [
    "X_train,X_test,y_train,y_test=train_test_split(reviews_df,y,test_size=0.2,random_state=42)"
   ]
  },
  {
   "cell_type": "code",
   "execution_count": 28,
   "metadata": {
    "scrolled": true
   },
   "outputs": [
    {
     "data": {
      "text/plain": [
       "' Stuning even for the non-gamer: This sound track was beautiful! It paints the senery in your mind so well I would recomend it even to people who hate video game music! I have played the game Chrono Cross but out of all of the games I have ever played it has the best music! It backs away from crude keyboarding and takes a fresher step with grate guitars and soulful orchestras. It would impress anyone who cares to listen! ^_^'"
      ]
     },
     "execution_count": 28,
     "metadata": {},
     "output_type": "execute_result"
    }
   ],
   "source": [
    "vectorizer.decode(X_train['Review'][0])"
   ]
  },
  {
   "cell_type": "markdown",
   "metadata": {},
   "source": [
    "# Preprocessing"
   ]
  },
  {
   "cell_type": "code",
   "execution_count": 29,
   "metadata": {},
   "outputs": [],
   "source": [
    "def preprocessing(review):\n",
    "    \n",
    "    tokens=regexp.tokenize(review)\n",
    "    \n",
    "    pure_tokens=[token.lower() for token in tokens if token.lower() not in stopwords_en]\n",
    "    \n",
    "    lemma_tokens=[lemmatizer.lemmatize(pure_token,pos='v') for pure_token in pure_tokens]\n",
    "    \n",
    "    return ' '.join(lemma_tokens)"
   ]
  },
  {
   "cell_type": "code",
   "execution_count": 30,
   "metadata": {},
   "outputs": [],
   "source": [
    "X_train['Review']=X_train['Review'].apply(preprocessing)\n",
    "\n",
    "X_test['Review']=X_test['Review'].apply(preprocessing)"
   ]
  },
  {
   "cell_type": "code",
   "execution_count": 31,
   "metadata": {},
   "outputs": [],
   "source": [
    "X_train_tfidf=vectorizer.fit_transform(X_train['Review'])\n",
    "\n",
    "\n",
    "X_test_tfidf=vectorizer.transform(X_test['Review'])"
   ]
  },
  {
   "cell_type": "markdown",
   "metadata": {},
   "source": [
    "# Machine Learning Models Supervised"
   ]
  },
  {
   "cell_type": "markdown",
   "metadata": {},
   "source": [
    "## 1. Logistic Regression"
   ]
  },
  {
   "cell_type": "code",
   "execution_count": 32,
   "metadata": {},
   "outputs": [
    {
     "name": "stdout",
     "output_type": "stream",
     "text": [
      "Train Score 0.9937106918238994\n",
      "Test Score 0.825\n"
     ]
    }
   ],
   "source": [
    "logreg=LogisticRegression()\n",
    "logreg.fit(X_train_tfidf,y_train)\n",
    "logreg_pred=logreg.predict(X_test_tfidf)\n",
    "print('Train Score',logreg.score(X_train_tfidf,y_train))\n",
    "print('Test Score',logreg.score(X_test_tfidf,y_test))"
   ]
  },
  {
   "cell_type": "markdown",
   "metadata": {},
   "source": [
    "## Metrics"
   ]
  },
  {
   "cell_type": "code",
   "execution_count": 33,
   "metadata": {
    "scrolled": true
   },
   "outputs": [
    {
     "data": {
      "text/plain": [
       "array([[ 9,  6],\n",
       "       [ 1, 24]], dtype=int64)"
      ]
     },
     "execution_count": 33,
     "metadata": {},
     "output_type": "execute_result"
    }
   ],
   "source": [
    "confusion_matrix(y_test,logreg_pred)"
   ]
  },
  {
   "cell_type": "markdown",
   "metadata": {},
   "source": [
    "## Lasso"
   ]
  },
  {
   "cell_type": "code",
   "execution_count": 34,
   "metadata": {},
   "outputs": [
    {
     "data": {
      "text/plain": [
       "array([0.5408805, 0.5408805, 0.5408805, 0.5408805, 0.5408805, 0.5408805,\n",
       "       0.5408805, 0.5408805, 0.5408805, 0.5408805, 0.5408805, 0.5408805,\n",
       "       0.5408805, 0.5408805, 0.5408805, 0.5408805, 0.5408805, 0.5408805,\n",
       "       0.5408805, 0.5408805, 0.5408805, 0.5408805, 0.5408805, 0.5408805,\n",
       "       0.5408805, 0.5408805, 0.5408805, 0.5408805, 0.5408805, 0.5408805,\n",
       "       0.5408805, 0.5408805, 0.5408805, 0.5408805, 0.5408805, 0.5408805,\n",
       "       0.5408805, 0.5408805, 0.5408805, 0.5408805])"
      ]
     },
     "execution_count": 34,
     "metadata": {},
     "output_type": "execute_result"
    }
   ],
   "source": [
    "lasso_reg=Lasso(alpha=0.1)\n",
    "lasso_reg.fit(X_train_tfidf,(y_train))\n",
    "pred=lasso_reg.predict(X_test_tfidf)\n",
    "pred"
   ]
  },
  {
   "cell_type": "markdown",
   "metadata": {},
   "source": [
    "## Schochastic Gradient Descent Classifier(SGDClassifier)"
   ]
  },
  {
   "cell_type": "code",
   "execution_count": 35,
   "metadata": {},
   "outputs": [
    {
     "data": {
      "text/plain": [
       "array([1, 1, 1, 1, 1, 1, 1, 1, 1, 1, 1, 1, 1, 1, 1, 1, 1, 1, 1, 1, 1, 1,\n",
       "       1, 1, 1, 1, 1, 1, 1, 1, 1, 1, 1, 1, 1, 1, 1, 1, 1, 1], dtype=int64)"
      ]
     },
     "execution_count": 35,
     "metadata": {},
     "output_type": "execute_result"
    }
   ],
   "source": [
    "sgd_reg=SGDClassifier(alpha=1)\n",
    "sgd_reg.fit(X_train_tfidf,y_train)\n",
    "pred=sgd_reg.predict(X_test_tfidf)\n",
    "pred"
   ]
  },
  {
   "cell_type": "markdown",
   "metadata": {},
   "source": [
    "# 2. Decision Tree Classifier"
   ]
  },
  {
   "cell_type": "code",
   "execution_count": 36,
   "metadata": {},
   "outputs": [
    {
     "name": "stdout",
     "output_type": "stream",
     "text": [
      "Train score 1.0\n",
      "Test Score 0.675\n"
     ]
    }
   ],
   "source": [
    "ds_tree=DecisionTreeClassifier()\n",
    "ds_tree.fit(X_train_tfidf,y_train)\n",
    "pred=ds_tree.predict(X_test_tfidf)\n",
    "print('Train score',ds_tree.score(X_train_tfidf,y_train))\n",
    "print('Test Score',ds_tree.score(X_test_tfidf,y_test))\n"
   ]
  },
  {
   "cell_type": "markdown",
   "metadata": {},
   "source": [
    "# Hyperparameter Decision Tree"
   ]
  },
  {
   "cell_type": "code",
   "execution_count": 37,
   "metadata": {
    "scrolled": true
   },
   "outputs": [
    {
     "data": {
      "text/plain": [
       "RandomizedSearchCV(cv=5, estimator=DecisionTreeClassifier(),\n",
       "                   param_distributions={'criterion': ['gini', 'entropy'],\n",
       "                                        'max_depth': [3, None],\n",
       "                                        'min_samples_leaf': <scipy.stats._distn_infrastructure.rv_frozen object at 0x0000022BA208AD90>})"
      ]
     },
     "execution_count": 37,
     "metadata": {},
     "output_type": "execute_result"
    }
   ],
   "source": [
    "ds_tree=DecisionTreeClassifier()\n",
    "\n",
    "param_dist={\"max_depth\":[3,None],\n",
    "            \"min_samples_leaf\": randint(1,9),\n",
    "            \"criterion\":[\"gini\",\"entropy\"]\n",
    "           }\n",
    "rscv=RandomizedSearchCV(ds_tree,param_distributions=param_dist,cv=5)\n",
    "rscv.fit(X_train_tfidf,y_train)"
   ]
  },
  {
   "cell_type": "code",
   "execution_count": 38,
   "metadata": {},
   "outputs": [
    {
     "name": "stdout",
     "output_type": "stream",
     "text": [
      "{'criterion': 'gini', 'max_depth': None, 'min_samples_leaf': 7}\n",
      "DecisionTreeClassifier(min_samples_leaf=7)\n",
      "0.6100806451612903\n"
     ]
    }
   ],
   "source": [
    "print(rscv.best_params_)\n",
    "print(rscv.best_estimator_)\n",
    "print(rscv.best_score_)"
   ]
  },
  {
   "cell_type": "markdown",
   "metadata": {},
   "source": [
    "# 3. Random Forest Classifier"
   ]
  },
  {
   "cell_type": "code",
   "execution_count": 39,
   "metadata": {},
   "outputs": [],
   "source": [
    "n_estimators=list(range(20,200,20))\n",
    "accuracy=[]\n",
    "\n",
    "for num in n_estimators:\n",
    "    rf=RandomForestClassifier(n_estimators=num)\n",
    "    rf.fit(X_train_tfidf,y_train)\n",
    "    accuracy.append(rf.score(X_test_tfidf,y_test))   "
   ]
  },
  {
   "cell_type": "code",
   "execution_count": 40,
   "metadata": {
    "scrolled": true
   },
   "outputs": [
    {
     "data": {
      "text/plain": [
       "[<matplotlib.lines.Line2D at 0x22ba20382b0>]"
      ]
     },
     "execution_count": 40,
     "metadata": {},
     "output_type": "execute_result"
    },
    {
     "data": {
      "image/png": "[encoded data removed]",
      "text/plain": [
       "<Figure size 432x288 with 1 Axes>"
      ]
     },
     "metadata": {
      "needs_background": "light"
     },
     "output_type": "display_data"
    }
   ],
   "source": [
    "plt.plot(n_estimators,accuracy)"
   ]
  },
  {
   "cell_type": "markdown",
   "metadata": {},
   "source": [
    "# 4. Ada Boost Classifier"
   ]
  },
  {
   "cell_type": "code",
   "execution_count": 41,
   "metadata": {},
   "outputs": [],
   "source": [
    "learning_rate=[0.2,0.4,0.6,0.8]\n",
    "n_estimators=np.arange(10,200,20)\n",
    "accuracy=[]\n",
    "\n",
    "for num in learning_rate:\n",
    "    abc=AdaBoostClassifier(learning_rate=num)\n",
    "    abc.fit(X_train_tfidf,y_train)\n",
    "    accuracy.append(abc.score(X_test_tfidf,y_test))   "
   ]
  },
  {
   "cell_type": "code",
   "execution_count": 42,
   "metadata": {},
   "outputs": [
    {
     "data": {
      "text/plain": [
       "[<matplotlib.lines.Line2D at 0x22ba212fc70>]"
      ]
     },
     "execution_count": 42,
     "metadata": {},
     "output_type": "execute_result"
    },
    {
     "data": {
      "image/png": "[encoded data removed]",
      "text/plain": [
       "<Figure size 432x288 with 1 Axes>"
      ]
     },
     "metadata": {
      "needs_background": "light"
     },
     "output_type": "display_data"
    }
   ],
   "source": [
    "plt.plot(learning_rate,accuracy)"
   ]
  },
  {
   "cell_type": "markdown",
   "metadata": {},
   "source": [
    "## Hyperparameter Tunning"
   ]
  },
  {
   "cell_type": "code",
   "execution_count": 43,
   "metadata": {
    "scrolled": false
   },
   "outputs": [
    {
     "name": "stdout",
     "output_type": "stream",
     "text": [
      "Fitting 5 folds for each of 10 candidates, totalling 50 fits\n",
      "[CV 1/5] END max_depth=9, max_features=sqrt, min_samples_split=4, n_estimators=100; total time=   0.6s\n",
      "[CV 2/5] END max_depth=9, max_features=sqrt, min_samples_split=4, n_estimators=100; total time=   1.0s\n",
      "[CV 3/5] END max_depth=9, max_features=sqrt, min_samples_split=4, n_estimators=100; total time=   0.6s\n",
      "[CV 4/5] END max_depth=9, max_features=sqrt, min_samples_split=4, n_estimators=100; total time=   1.1s\n",
      "[CV 5/5] END max_depth=9, max_features=sqrt, min_samples_split=4, n_estimators=100; total time=   1.1s\n",
      "[CV 1/5] END max_depth=7, max_features=auto, min_samples_split=9, n_estimators=50; total time=   0.2s\n",
      "[CV 2/5] END max_depth=7, max_features=auto, min_samples_split=9, n_estimators=50; total time=   0.4s\n",
      "[CV 3/5] END max_depth=7, max_features=auto, min_samples_split=9, n_estimators=50; total time=   0.3s\n",
      "[CV 4/5] END max_depth=7, max_features=auto, min_samples_split=9, n_estimators=50; total time=   0.7s\n",
      "[CV 5/5] END max_depth=7, max_features=auto, min_samples_split=9, n_estimators=50; total time=   0.2s\n",
      "[CV 1/5] END max_depth=7, max_features=sqrt, min_samples_split=7, n_estimators=70; total time=   0.3s\n",
      "[CV 2/5] END max_depth=7, max_features=sqrt, min_samples_split=7, n_estimators=70; total time=   0.3s\n",
      "[CV 3/5] END max_depth=7, max_features=sqrt, min_samples_split=7, n_estimators=70; total time=   0.2s\n",
      "[CV 4/5] END max_depth=7, max_features=sqrt, min_samples_split=7, n_estimators=70; total time=   0.3s\n",
      "[CV 5/5] END max_depth=7, max_features=sqrt, min_samples_split=7, n_estimators=70; total time=   0.2s\n",
      "[CV 1/5] END max_depth=8, max_features=sqrt, min_samples_split=4, n_estimators=60; total time=   0.3s\n",
      "[CV 2/5] END max_depth=8, max_features=sqrt, min_samples_split=4, n_estimators=60; total time=   0.3s\n",
      "[CV 3/5] END max_depth=8, max_features=sqrt, min_samples_split=4, n_estimators=60; total time=   0.3s\n",
      "[CV 4/5] END max_depth=8, max_features=sqrt, min_samples_split=4, n_estimators=60; total time=   0.2s\n",
      "[CV 5/5] END max_depth=8, max_features=sqrt, min_samples_split=4, n_estimators=60; total time=   0.2s\n",
      "[CV 1/5] END max_depth=7, max_features=log2, min_samples_split=9, n_estimators=50; total time=   0.1s\n",
      "[CV 2/5] END max_depth=7, max_features=log2, min_samples_split=9, n_estimators=50; total time=   0.2s\n",
      "[CV 3/5] END max_depth=7, max_features=log2, min_samples_split=9, n_estimators=50; total time=   0.1s\n",
      "[CV 4/5] END max_depth=7, max_features=log2, min_samples_split=9, n_estimators=50; total time=   0.2s\n",
      "[CV 5/5] END max_depth=7, max_features=log2, min_samples_split=9, n_estimators=50; total time=   0.5s\n",
      "[CV 1/5] END max_depth=8, max_features=auto, min_samples_split=7, n_estimators=70; total time=   0.4s\n",
      "[CV 2/5] END max_depth=8, max_features=auto, min_samples_split=7, n_estimators=70; total time=   0.3s\n",
      "[CV 3/5] END max_depth=8, max_features=auto, min_samples_split=7, n_estimators=70; total time=   0.3s\n",
      "[CV 4/5] END max_depth=8, max_features=auto, min_samples_split=7, n_estimators=70; total time=   0.4s\n",
      "[CV 5/5] END max_depth=8, max_features=auto, min_samples_split=7, n_estimators=70; total time=   0.3s\n",
      "[CV 1/5] END max_depth=7, max_features=sqrt, min_samples_split=9, n_estimators=100; total time=   0.5s\n",
      "[CV 2/5] END max_depth=7, max_features=sqrt, min_samples_split=9, n_estimators=100; total time=   0.5s\n",
      "[CV 3/5] END max_depth=7, max_features=sqrt, min_samples_split=9, n_estimators=100; total time=   0.4s\n",
      "[CV 4/5] END max_depth=7, max_features=sqrt, min_samples_split=9, n_estimators=100; total time=   0.5s\n",
      "[CV 5/5] END max_depth=7, max_features=sqrt, min_samples_split=9, n_estimators=100; total time=   0.5s\n",
      "[CV 1/5] END max_depth=10, max_features=auto, min_samples_split=7, n_estimators=60; total time=   0.2s\n",
      "[CV 2/5] END max_depth=10, max_features=auto, min_samples_split=7, n_estimators=60; total time=   0.2s\n",
      "[CV 3/5] END max_depth=10, max_features=auto, min_samples_split=7, n_estimators=60; total time=   0.2s\n",
      "[CV 4/5] END max_depth=10, max_features=auto, min_samples_split=7, n_estimators=60; total time=   0.2s\n",
      "[CV 5/5] END max_depth=10, max_features=auto, min_samples_split=7, n_estimators=60; total time=   0.2s\n",
      "[CV 1/5] END max_depth=10, max_features=log2, min_samples_split=4, n_estimators=100; total time=   0.4s\n",
      "[CV 2/5] END max_depth=10, max_features=log2, min_samples_split=4, n_estimators=100; total time=   0.4s\n",
      "[CV 3/5] END max_depth=10, max_features=log2, min_samples_split=4, n_estimators=100; total time=   0.4s\n",
      "[CV 4/5] END max_depth=10, max_features=log2, min_samples_split=4, n_estimators=100; total time=   0.3s\n",
      "[CV 5/5] END max_depth=10, max_features=log2, min_samples_split=4, n_estimators=100; total time=   0.3s\n",
      "[CV 1/5] END max_depth=10, max_features=log2, min_samples_split=9, n_estimators=70; total time=   0.2s\n",
      "[CV 2/5] END max_depth=10, max_features=log2, min_samples_split=9, n_estimators=70; total time=   0.2s\n",
      "[CV 3/5] END max_depth=10, max_features=log2, min_samples_split=9, n_estimators=70; total time=   0.2s\n",
      "[CV 4/5] END max_depth=10, max_features=log2, min_samples_split=9, n_estimators=70; total time=   0.2s\n",
      "[CV 5/5] END max_depth=10, max_features=log2, min_samples_split=9, n_estimators=70; total time=   0.2s\n"
     ]
    },
    {
     "data": {
      "text/plain": [
       "RandomizedSearchCV(cv=5, estimator=RandomForestClassifier(random_state=42),\n",
       "                   param_distributions={'max_depth': [7, 8, 9, 10],\n",
       "                                        'max_features': ['auto', 'sqrt',\n",
       "                                                         'log2'],\n",
       "                                        'min_samples_split': [4, 7, 9],\n",
       "                                        'n_estimators': [50, 60, 70, 100]},\n",
       "                   verbose=5)"
      ]
     },
     "execution_count": 43,
     "metadata": {},
     "output_type": "execute_result"
    }
   ],
   "source": [
    "rf=RandomForestClassifier(random_state=42)\n",
    "\n",
    "param_dict={\n",
    "            'n_estimators':[50,60,70,100],\n",
    "            'min_samples_split':[4,7,9],\n",
    "            'max_depth':[7,8,9,10],\n",
    "            'max_features':['auto','sqrt','log2']\n",
    "           }\n",
    "rscv=RandomizedSearchCV(rf,param_distributions=param_dict,cv=5,verbose=5)\n",
    "rscv.fit(X_train_tfidf,y_train)\n"
   ]
  },
  {
   "cell_type": "code",
   "execution_count": 57,
   "metadata": {},
   "outputs": [
    {
     "name": "stdout",
     "output_type": "stream",
     "text": [
      "{'kernel': 'rbf', 'gamma': 1, 'C': 1000}\n",
      "SVC(C=1000, gamma=1)\n",
      "0.6915322580645161\n"
     ]
    }
   ],
   "source": [
    "print(rscv.best_params_)\n",
    "print(rscv.best_estimator_)\n",
    "print(rscv.best_score_)"
   ]
  },
  {
   "cell_type": "markdown",
   "metadata": {},
   "source": [
    "# 5. Gradiant Boost Classifier"
   ]
  },
  {
   "cell_type": "code",
   "execution_count": 45,
   "metadata": {},
   "outputs": [
    {
     "name": "stdout",
     "output_type": "stream",
     "text": [
      "Train Score 1.0\n",
      "Test Score 0.725\n"
     ]
    }
   ],
   "source": [
    "gbc=GradientBoostingClassifier()\n",
    "gbc.fit(X_train_tfidf,y_train)\n",
    "pred=gbc.predict(X_test_tfidf)\n",
    "print('Train Score',gbc.score(X_train_tfidf,y_train))\n",
    "print('Test Score',gbc.score(X_test_tfidf,y_test))"
   ]
  },
  {
   "cell_type": "code",
   "execution_count": 46,
   "metadata": {},
   "outputs": [
    {
     "data": {
      "text/plain": [
       "array([[ 9,  6],\n",
       "       [ 5, 20]], dtype=int64)"
      ]
     },
     "execution_count": 46,
     "metadata": {},
     "output_type": "execute_result"
    }
   ],
   "source": [
    "confusion_matrix(y_test,pred)"
   ]
  },
  {
   "cell_type": "code",
   "execution_count": 47,
   "metadata": {},
   "outputs": [
    {
     "name": "stdout",
     "output_type": "stream",
     "text": [
      "              precision    recall  f1-score   support\n",
      "\n",
      "           0       0.64      0.60      0.62        15\n",
      "           1       0.77      0.80      0.78        25\n",
      "\n",
      "    accuracy                           0.73        40\n",
      "   macro avg       0.71      0.70      0.70        40\n",
      "weighted avg       0.72      0.72      0.72        40\n",
      "\n"
     ]
    }
   ],
   "source": [
    "print(classification_report(y_test,pred))"
   ]
  },
  {
   "cell_type": "markdown",
   "metadata": {},
   "source": [
    "# 6. XGBoost Classifier"
   ]
  },
  {
   "cell_type": "code",
   "execution_count": 48,
   "metadata": {},
   "outputs": [
    {
     "name": "stdout",
     "output_type": "stream",
     "text": [
      "[10:17:56] WARNING: C:/Users/Administrator/workspace/xgboost-win64_release_1.3.0/src/learner.cc:1061: Starting in XGBoost 1.3.0, the default evaluation metric used with the objective 'binary:logistic' was changed from 'error' to 'logloss'. Explicitly set eval_metric if you'd like to restore the old behavior.\n",
      "Train Score 1.0\n",
      "Test Score 0.725\n"
     ]
    }
   ],
   "source": [
    "from xgboost import XGBClassifier\n",
    "\n",
    "xgb=XGBClassifier()\n",
    "xgb.fit(X_train_tfidf,y_train)\n",
    "pred=xgb.predict(X_test_tfidf)\n",
    "print('Train Score',xgb.score(X_train_tfidf,y_train))\n",
    "print('Test Score',xgb.score(X_test_tfidf,y_test))"
   ]
  },
  {
   "cell_type": "markdown",
   "metadata": {},
   "source": [
    "# 7. Naive Bayes Classifier"
   ]
  },
  {
   "cell_type": "code",
   "execution_count": 49,
   "metadata": {},
   "outputs": [],
   "source": [
    "X_train_tfidf_converted=X_train_tfidf.toarray()\n",
    "X_test_tfidf_converted=X_test_tfidf.toarray()\n"
   ]
  },
  {
   "cell_type": "code",
   "execution_count": 50,
   "metadata": {
    "scrolled": false
   },
   "outputs": [
    {
     "name": "stdout",
     "output_type": "stream",
     "text": [
      "Train score 1.0\n",
      "Test Score 0.725\n"
     ]
    }
   ],
   "source": [
    "gnb=GaussianNB()\n",
    "gnb.fit(X_train_tfidf_converted,y_train)\n",
    "pred=gnb.predict(X_test_tfidf_converted)\n",
    "print('Train score',gnb.score(X_train_tfidf_converted,y_train))\n",
    "print('Test Score',gnb.score(X_test_tfidf_converted,y_test))"
   ]
  },
  {
   "cell_type": "markdown",
   "metadata": {},
   "source": [
    "# 8. Support Vector Machine"
   ]
  },
  {
   "cell_type": "code",
   "execution_count": 51,
   "metadata": {},
   "outputs": [
    {
     "name": "stdout",
     "output_type": "stream",
     "text": [
      "Train score 1.0\n",
      "Test Score 0.75\n"
     ]
    }
   ],
   "source": [
    "from sklearn.svm import SVC\n",
    "svc=SVC()\n",
    "svc.fit(X_train_tfidf,y_train)\n",
    "pred=svc.predict(X_test_tfidf)\n",
    "print('Train score',svc.score(X_train_tfidf,y_train))\n",
    "print('Test Score',svc.score(X_test_tfidf,y_test))"
   ]
  },
  {
   "cell_type": "markdown",
   "metadata": {},
   "source": [
    "## Hyperparameter Tuning (SVC)"
   ]
  },
  {
   "cell_type": "code",
   "execution_count": 53,
   "metadata": {},
   "outputs": [
    {
     "name": "stdout",
     "output_type": "stream",
     "text": [
      "Fitting 5 folds for each of 10 candidates, totalling 50 fits\n",
      "[CV 1/5] END .................C=0.1, gamma=0.001, kernel=rbf; total time=   0.0s\n",
      "[CV 2/5] END .................C=0.1, gamma=0.001, kernel=rbf; total time=   0.0s\n",
      "[CV 3/5] END .................C=0.1, gamma=0.001, kernel=rbf; total time=   0.0s\n",
      "[CV 4/5] END .................C=0.1, gamma=0.001, kernel=rbf; total time=   0.0s\n",
      "[CV 5/5] END .................C=0.1, gamma=0.001, kernel=rbf; total time=   0.0s\n",
      "[CV 1/5] END ....................C=1000, gamma=1, kernel=rbf; total time=   0.0s\n",
      "[CV 2/5] END ....................C=1000, gamma=1, kernel=rbf; total time=   0.0s\n",
      "[CV 3/5] END ....................C=1000, gamma=1, kernel=rbf; total time=   0.0s\n",
      "[CV 4/5] END ....................C=1000, gamma=1, kernel=rbf; total time=   0.0s\n",
      "[CV 5/5] END ....................C=1000, gamma=1, kernel=rbf; total time=   0.0s\n",
      "[CV 1/5] END .....................C=1, gamma=0.1, kernel=rbf; total time=   0.0s\n",
      "[CV 2/5] END .....................C=1, gamma=0.1, kernel=rbf; total time=   0.0s\n",
      "[CV 3/5] END .....................C=1, gamma=0.1, kernel=rbf; total time=   0.0s\n",
      "[CV 4/5] END .....................C=1, gamma=0.1, kernel=rbf; total time=   0.0s\n",
      "[CV 5/5] END .....................C=1, gamma=0.1, kernel=rbf; total time=   0.0s\n",
      "[CV 1/5] END ...................C=0.1, gamma=0.1, kernel=rbf; total time=   0.0s\n",
      "[CV 2/5] END ...................C=0.1, gamma=0.1, kernel=rbf; total time=   0.0s\n",
      "[CV 3/5] END ...................C=0.1, gamma=0.1, kernel=rbf; total time=   0.0s\n",
      "[CV 4/5] END ...................C=0.1, gamma=0.1, kernel=rbf; total time=   0.0s\n",
      "[CV 5/5] END ...................C=0.1, gamma=0.1, kernel=rbf; total time=   0.0s\n",
      "[CV 1/5] END ..................C=1000, gamma=0.1, kernel=rbf; total time=   0.0s\n",
      "[CV 2/5] END ..................C=1000, gamma=0.1, kernel=rbf; total time=   0.0s\n",
      "[CV 3/5] END ..................C=1000, gamma=0.1, kernel=rbf; total time=   0.0s\n",
      "[CV 4/5] END ..................C=1000, gamma=0.1, kernel=rbf; total time=   0.0s\n",
      "[CV 5/5] END ..................C=1000, gamma=0.1, kernel=rbf; total time=   0.0s\n",
      "[CV 1/5] END .....................C=100, gamma=1, kernel=rbf; total time=   0.0s\n",
      "[CV 2/5] END .....................C=100, gamma=1, kernel=rbf; total time=   0.0s\n",
      "[CV 3/5] END .....................C=100, gamma=1, kernel=rbf; total time=   0.0s\n",
      "[CV 4/5] END .....................C=100, gamma=1, kernel=rbf; total time=   0.0s\n",
      "[CV 5/5] END .....................C=100, gamma=1, kernel=rbf; total time=   0.0s\n",
      "[CV 1/5] END ....................C=1, gamma=0.01, kernel=rbf; total time=   0.0s\n",
      "[CV 2/5] END ....................C=1, gamma=0.01, kernel=rbf; total time=   0.0s\n",
      "[CV 3/5] END ....................C=1, gamma=0.01, kernel=rbf; total time=   0.0s\n",
      "[CV 4/5] END ....................C=1, gamma=0.01, kernel=rbf; total time=   0.0s\n",
      "[CV 5/5] END ....................C=1, gamma=0.01, kernel=rbf; total time=   0.0s\n",
      "[CV 1/5] END .................C=1000, gamma=0.01, kernel=rbf; total time=   0.0s\n",
      "[CV 2/5] END .................C=1000, gamma=0.01, kernel=rbf; total time=   0.0s\n",
      "[CV 3/5] END .................C=1000, gamma=0.01, kernel=rbf; total time=   0.0s\n",
      "[CV 4/5] END .................C=1000, gamma=0.01, kernel=rbf; total time=   0.0s\n",
      "[CV 5/5] END .................C=1000, gamma=0.01, kernel=rbf; total time=   0.0s\n",
      "[CV 1/5] END .....................C=0.1, gamma=1, kernel=rbf; total time=   0.0s\n",
      "[CV 2/5] END .....................C=0.1, gamma=1, kernel=rbf; total time=   0.0s\n",
      "[CV 3/5] END .....................C=0.1, gamma=1, kernel=rbf; total time=   0.0s\n",
      "[CV 4/5] END .....................C=0.1, gamma=1, kernel=rbf; total time=   0.0s\n",
      "[CV 5/5] END .....................C=0.1, gamma=1, kernel=rbf; total time=   0.0s\n",
      "[CV 1/5] END ..................C=0.1, gamma=0.01, kernel=rbf; total time=   0.0s\n",
      "[CV 2/5] END ..................C=0.1, gamma=0.01, kernel=rbf; total time=   0.0s\n",
      "[CV 3/5] END ..................C=0.1, gamma=0.01, kernel=rbf; total time=   0.0s\n",
      "[CV 4/5] END ..................C=0.1, gamma=0.01, kernel=rbf; total time=   0.0s\n",
      "[CV 5/5] END ..................C=0.1, gamma=0.01, kernel=rbf; total time=   0.0s\n"
     ]
    },
    {
     "data": {
      "text/plain": [
       "RandomizedSearchCV(estimator=SVC(),\n",
       "                   param_distributions={'C': [0.1, 1, 10, 100, 1000],\n",
       "                                        'gamma': [1, 0.1, 0.01, 0.001, 0.0001],\n",
       "                                        'kernel': ['rbf']},\n",
       "                   verbose=3)"
      ]
     },
     "execution_count": 53,
     "metadata": {},
     "output_type": "execute_result"
    }
   ],
   "source": [
    "param_dict={\n",
    "    'C':[0.1,1,10,100,1000],\n",
    "    'gamma':[1,0.1,0.01,0.001,0.0001],\n",
    "    'kernel':['rbf']\n",
    "}\n",
    "rscv=RandomizedSearchCV(svc,param_dict,refit=True,verbose=3)\n",
    "rscv.fit(X_train_tfidf,y_train)"
   ]
  },
  {
   "cell_type": "code",
   "execution_count": 54,
   "metadata": {},
   "outputs": [
    {
     "name": "stdout",
     "output_type": "stream",
     "text": [
      "{'kernel': 'rbf', 'gamma': 1, 'C': 1000}\n",
      "SVC(C=1000, gamma=1)\n",
      "0.6915322580645161\n"
     ]
    }
   ],
   "source": [
    "print(rscv.best_params_)\n",
    "print(rscv.best_estimator_)\n",
    "print(rscv.best_score_)"
   ]
  },
  {
   "cell_type": "markdown",
   "metadata": {},
   "source": [
    "# 9. K Nearest Neighbors Classifier\n"
   ]
  },
  {
   "cell_type": "code",
   "execution_count": 55,
   "metadata": {},
   "outputs": [
    {
     "name": "stdout",
     "output_type": "stream",
     "text": [
      "Train Score 0.7861635220125787\n",
      "Test Score 0.7\n"
     ]
    }
   ],
   "source": [
    "knn=KNeighborsClassifier()\n",
    "knn.fit(X_train_tfidf,y_train)\n",
    "pred=knn.predict(X_test_tfidf)\n",
    "print('Train Score',knn.score(X_train_tfidf,y_train))\n",
    "print('Test Score',knn.score(X_test_tfidf,y_test))\n"
   ]
  },
  {
   "cell_type": "markdown",
   "metadata": {},
   "source": [
    "# Unsupervised \n",
    "## K-Mean Clustering"
   ]
  },
  {
   "cell_type": "code",
   "execution_count": 56,
   "metadata": {},
   "outputs": [
    {
     "data": {
      "text/plain": [
       "Text(0.5, 1.0, 'Elbow Curve')"
      ]
     },
     "execution_count": 56,
     "metadata": {},
     "output_type": "execute_result"
    },
    {
     "data": {
      "image/png": "[encoded data removed]",
      "text/plain": [
       "<Figure size 432x288 with 1 Axes>"
      ]
     },
     "metadata": {
      "needs_background": "light"
     },
     "output_type": "display_data"
    }
   ],
   "source": [
    "from sklearn.cluster import KMeans\n",
    "kmns=KMeans()\n",
    "kmns.fit(X_train_tfidf)\n",
    "\n",
    "#finding the optimul number of clusters\n",
    "\n",
    "num_clusters=range(2,11)\n",
    "\n",
    "wss=[]  # Within Sum Of Square(WSS)\n",
    "\n",
    "for n in num_clusters:\n",
    "    kmns=KMeans(n_clusters=n)\n",
    "    kmns.fit(X_train_tfidf)\n",
    "    wss.append(kmns.inertia_)\n",
    "    \n",
    "plt.plot(num_clusters,wss)\n",
    "plt.title('Elbow Curve')\n",
    "    "
   ]
  }
 ],
 "metadata": {
  "kernelspec": {
   "display_name": "Python 3",
   "language": "python",
   "name": "python3"
  },
  "language_info": {
   "codemirror_mode": {
    "name": "ipython",
    "version": 3
   },
   "file_extension": ".py",
   "mimetype": "text/x-python",
   "name": "python",
   "nbconvert_exporter": "python",
   "pygments_lexer": "ipython3",
   "version": "3.8.3"
  }
 },
 "nbformat": 4,
 "nbformat_minor": 4
}
